{
 "cells": [
  {
   "cell_type": "markdown",
   "metadata": {},
   "source": [
    "# Error Learning"
   ]
  },
  {
   "cell_type": "markdown",
   "metadata": {},
   "source": [
    "## Data Construction"
   ]
  },
  {
   "cell_type": "code",
   "metadata": {
    "ExecuteTime": {
     "end_time": "2024-07-09T23:15:48.962466Z",
     "start_time": "2024-07-09T23:15:48.557016Z"
    }
   },
   "source": [
    "import numpy as np\n",
    "import os\n",
    "import pickle\n",
    "from pathlib import Path\n",
    "import wandb\n",
    "\n",
    "def load_and_process_data(run_id):\n",
    "    file_path = f\"rom_tracking_data/{run_id}/dataset.pickle\"\n",
    "\n",
    "    # Load data from the pickle file\n",
    "    with open(file_path, \"rb\") as f:\n",
    "        epoch_data = pickle.load(f)\n",
    "        print(\"Keys in dataset:\", epoch_data.keys())\n",
    "\n",
    "    processed_data = {}\n",
    "    for key in epoch_data:\n",
    "        processed_data[key] = epoch_data[key][:-1, :]\n",
    "\n",
    "    processed_data['e'] = processed_data['pz_x'] - processed_data['z']\n",
    "    processed_data['e_p1'] = np.roll(processed_data['e'], -1, axis=0)\n",
    "    processed_data['e_p1'][-1, :] = 0 # for wrap around...\n",
    "\n",
    "    return processed_data\n",
    "\n",
    "def save_data(run_id, data):\n",
    "    output_path = Path('rom_tracking_data', run_id, \"processed_data_with_errors.pickle\")\n",
    "    with open(output_path, \"wb\") as f:\n",
    "        pickle.dump(data, f)\n",
    "    print(f\"Data processing and saving complete. Data saved to {output_path}\")\n",
    "\n",
    "# Usage example\n",
    "run_id = \"single_integrator_o9zc48x6\"\n",
    "data = load_and_process_data(run_id)\n",
    "save_data(run_id, data)\n"
   ],
   "outputs": [
    {
     "name": "stdout",
     "output_type": "stream",
     "text": [
      "Keys in dataset: dict_keys(['z', 'pz_x', 'v', 'z_p1', 'pz_x_p1'])\n",
      "Data processing and saving complete. Data saved to rom_tracking_data/single_integrator_o9zc48x6/processed_data_with_errors.pickle\n"
     ]
    }
   ],
   "execution_count": 7
  },
  {
   "cell_type": "markdown",
   "metadata": {},
   "source": [
    "## Error Learning"
   ]
  },
  {
   "cell_type": "code",
   "metadata": {
    "ExecuteTime": {
     "end_time": "2024-07-09T23:15:54.749102Z",
     "start_time": "2024-07-09T23:15:54.746690Z"
    }
   },
   "source": [
    "import torch\n",
    "import torch.nn as nn\n",
    "import torch.optim as optim\n",
    "from torch.utils.data import DataLoader, TensorDataset, random_split\n",
    "import argparse\n",
    "import numpy as np\n",
    "from pathlib import Path\n",
    "import wandb"
   ],
   "outputs": [],
   "execution_count": 8
  },
  {
   "cell_type": "code",
   "metadata": {
    "ExecuteTime": {
     "end_time": "2024-07-09T23:15:55.849775Z",
     "start_time": "2024-07-09T23:15:55.846852Z"
    }
   },
   "source": [
    "def convert_to_tensor_input(data):\n",
    "    features = torch.tensor(data['e'], dtype=torch.float32)\n",
    "    targets = torch.tensor(data['e_p1'], dtype=torch.float32)\n",
    "    return features, targets\n",
    "\n",
    "def create_data_loaders(X, y, batch_size=64):\n",
    "    dataset = TensorDataset(X, y)\n",
    "    train_size = int(0.8 * len(dataset))\n",
    "    test_size = len(dataset) - train_size\n",
    "    train_dataset, test_dataset = random_split(dataset, [train_size, test_size])\n",
    "\n",
    "    train_loader = DataLoader(train_dataset, batch_size=batch_size, shuffle=True)\n",
    "    test_loader = DataLoader(test_dataset, batch_size=batch_size)\n",
    "    return train_loader, test_loader"
   ],
   "outputs": [],
   "execution_count": 9
  },
  {
   "cell_type": "code",
   "metadata": {
    "ExecuteTime": {
     "end_time": "2024-07-09T23:18:26.722346Z",
     "start_time": "2024-07-09T23:18:26.715681Z"
    }
   },
   "source": [
    "# Error Dynamics Model\n",
    "class ErrorDynamicsModel(nn.Module):\n",
    "    def __init__(self, input_dim, num_units, num_layers):\n",
    "        super(ErrorDynamicsModel, self).__init__()\n",
    "        layers = [nn.Linear(input_dim, num_units), nn.ReLU()]\n",
    "        for _ in range(num_layers - 1):\n",
    "            layers.extend([nn.Linear(num_units, num_units), nn.ReLU()])\n",
    "        layers.append(nn.Linear(num_units, input_dim))\n",
    "        self.layers = nn.Sequential(*layers)\n",
    "\n",
    "    def forward(self, x):\n",
    "        return self.layers(x)\n",
    "\n",
    "# Custom Loss Function for Error Dynamics\n",
    "class CustomErrorDynamicsLoss(nn.Module):\n",
    "    def __init__(self):\n",
    "        super(CustomErrorDynamicsLoss, self).__init__()\n",
    "\n",
    "    def forward(self, y_pred, y_true):\n",
    "        return torch.norm(y_pred - y_true, p=2, dim=1).mean()\n",
    "\n",
    "# Training and Testing Routine\n",
    "def train_and_test(model, criterion, optimizer, train_loader, test_loader, num_epochs=50):\n",
    "    for epoch in range(num_epochs):\n",
    "        print(epoch)\n",
    "        model.train()\n",
    "        total_train_loss = 0\n",
    "        for data, targets in train_loader:\n",
    "            optimizer.zero_grad()\n",
    "            outputs = model(data)\n",
    "            loss = criterion(outputs, targets)\n",
    "            loss.backward()\n",
    "            optimizer.step()\n",
    "            total_train_loss += loss.item()\n",
    "\n",
    "        model.eval()\n",
    "        total_test_loss = 0\n",
    "        with torch.no_grad():\n",
    "            for data, targets in test_loader:\n",
    "                outputs = model(data)\n",
    "                loss = criterion(outputs, targets)\n",
    "                total_test_loss += loss.item()\n",
    "\n",
    "        # Logging to wandb\n",
    "        wandb.log({'Epoch': epoch, 'Train Loss': total_train_loss / len(train_loader), 'Test Loss': total_test_loss / len(test_loader)})\n",
    "\n",
    "        # Save the best model\n",
    "        if epoch == 0 or total_test_loss < best_test_loss:\n",
    "            best_test_loss = total_test_loss\n",
    "            model_path = f\"models/model_epoch_{epoch}.pth\"\n",
    "            os.makedirs(os.path.dirname(model_path), exist_ok=True)\n",
    "            torch.save(model.state_dict(), model_path)\n",
    "\n",
    "# Main Function\n",
    "def main(run_id, num_units=100, num_layers=2, num_epochs=500):\n",
    "    wandb.init()\n",
    "    \n",
    "    data = load_and_process_data(run_id)\n",
    "    X, y = convert_to_tensor_input(data)\n",
    "    train_loader, test_loader = create_data_loaders(X, y)\n",
    "\n",
    "    input_dim = X.size(1)\n",
    "    model = ErrorDynamicsModel(input_dim, num_units, num_layers)\n",
    "    criterion = CustomErrorDynamicsLoss()\n",
    "    optimizer = optim.Adam(model.parameters(), lr=0.001)\n",
    "    \n",
    "    train_and_test(model, criterion, optimizer, train_loader, test_loader, num_epochs)\n",
    "\n",
    "    wandb.finish()"
   ],
   "outputs": [],
   "execution_count": 12
  },
  {
   "cell_type": "code",
   "metadata": {
    "scrolled": true,
    "ExecuteTime": {
     "start_time": "2024-07-09T23:18:28.184543Z"
    }
   },
   "source": [
    "wandb.login(key=\"70954bb73c536b7f5b23ef315c7c19b511e8a406\")\n",
    "main('single_integrator_o9zc48x6')"
   ],
   "outputs": [
    {
     "name": "stderr",
     "output_type": "stream",
     "text": [
      "\u001B[34m\u001B[1mwandb\u001B[0m: \u001B[33mWARNING\u001B[0m Calling wandb.login() after wandb.init() has no effect.\n"
     ]
    },
    {
     "data": {
      "text/plain": [
       "<IPython.core.display.HTML object>"
      ],
      "text/html": [
       "Finishing last run (ID:5af87d9g) before initializing another..."
      ]
     },
     "metadata": {},
     "output_type": "display_data"
    },
    {
     "data": {
      "text/plain": [
       "VBox(children=(Label(value='0.004 MB of 0.004 MB uploaded\\r'), FloatProgress(value=1.0, max=1.0)))"
      ],
      "application/vnd.jupyter.widget-view+json": {
       "version_major": 2,
       "version_minor": 0,
       "model_id": "42c3bf4a5872448eb635ead060528764"
      }
     },
     "metadata": {},
     "output_type": "display_data"
    },
    {
     "data": {
      "text/plain": [
       "<IPython.core.display.HTML object>"
      ],
      "text/html": [
       "<style>\n",
       "    table.wandb td:nth-child(1) { padding: 0 10px; text-align: left ; width: auto;} td:nth-child(2) {text-align: left ; width: 100%}\n",
       "    .wandb-row { display: flex; flex-direction: row; flex-wrap: wrap; justify-content: flex-start; width: 100% }\n",
       "    .wandb-col { display: flex; flex-direction: column; flex-basis: 100%; flex: 1; padding: 10px; }\n",
       "    </style>\n",
       "<div class=\"wandb-row\"><div class=\"wandb-col\"><h3>Run history:</h3><br/><table class=\"wandb\"><tr><td>Epoch</td><td>▁▃▅▆█</td></tr><tr><td>Test Loss</td><td>█▃▁▆▃</td></tr><tr><td>Train Loss</td><td>█▃▂▁▁</td></tr></table><br/></div><div class=\"wandb-col\"><h3>Run summary:</h3><br/><table class=\"wandb\"><tr><td>Epoch</td><td>4</td></tr><tr><td>Test Loss</td><td>0.00729</td></tr><tr><td>Train Loss</td><td>0.0073</td></tr></table><br/></div></div>"
      ]
     },
     "metadata": {},
     "output_type": "display_data"
    },
    {
     "data": {
      "text/plain": [
       "<IPython.core.display.HTML object>"
      ],
      "text/html": [
       " View run <strong style=\"color:#cdcd00\">dashing-meadow-7</strong> at: <a href='https://wandb.ai/coleonguard-Georgia%20Institute%20of%20Technology/legged_gym_dev-deep_tube_learning_deep_tube_learning/runs/5af87d9g' target=\"_blank\">https://wandb.ai/coleonguard-Georgia%20Institute%20of%20Technology/legged_gym_dev-deep_tube_learning_deep_tube_learning/runs/5af87d9g</a><br/> View project at: <a href='https://wandb.ai/coleonguard-Georgia%20Institute%20of%20Technology/legged_gym_dev-deep_tube_learning_deep_tube_learning' target=\"_blank\">https://wandb.ai/coleonguard-Georgia%20Institute%20of%20Technology/legged_gym_dev-deep_tube_learning_deep_tube_learning</a><br/>Synced 6 W&B file(s), 0 media file(s), 2 artifact file(s) and 0 other file(s)"
      ]
     },
     "metadata": {},
     "output_type": "display_data"
    },
    {
     "data": {
      "text/plain": [
       "<IPython.core.display.HTML object>"
      ],
      "text/html": [
       "Find logs at: <code>./wandb/run-20240709_161602-5af87d9g/logs</code>"
      ]
     },
     "metadata": {},
     "output_type": "display_data"
    },
    {
     "data": {
      "text/plain": [
       "<IPython.core.display.HTML object>"
      ],
      "text/html": [
       "The new W&B backend becomes opt-out in version 0.18.0; try it out with `wandb.require(\"core\")`! See https://wandb.me/wandb-core for more information."
      ]
     },
     "metadata": {},
     "output_type": "display_data"
    },
    {
     "data": {
      "text/plain": [
       "<IPython.core.display.HTML object>"
      ],
      "text/html": [
       "Successfully finished last run (ID:5af87d9g). Initializing new run:<br/>"
      ]
     },
     "metadata": {},
     "output_type": "display_data"
    },
    {
     "data": {
      "text/plain": [
       "VBox(children=(Label(value='Waiting for wandb.init()...\\r'), FloatProgress(value=0.011112340222138705, max=1.0…"
      ],
      "application/vnd.jupyter.widget-view+json": {
       "version_major": 2,
       "version_minor": 0,
       "model_id": "b5c08e8c52784fa0a92029bc3eb1487d"
      }
     },
     "metadata": {},
     "output_type": "display_data"
    },
    {
     "data": {
      "text/plain": [
       "<IPython.core.display.HTML object>"
      ],
      "text/html": [
       "Tracking run with wandb version 0.17.4"
      ]
     },
     "metadata": {},
     "output_type": "display_data"
    },
    {
     "data": {
      "text/plain": [
       "<IPython.core.display.HTML object>"
      ],
      "text/html": [
       "Run data is saved locally in <code>/home/wcompton/Repos/legged_gym_dev/deep_tube_learning/wandb/run-20240709_161828-u5omtocu</code>"
      ]
     },
     "metadata": {},
     "output_type": "display_data"
    },
    {
     "data": {
      "text/plain": [
       "<IPython.core.display.HTML object>"
      ],
      "text/html": [
       "Syncing run <strong><a href='https://wandb.ai/coleonguard-Georgia%20Institute%20of%20Technology/legged_gym_dev-deep_tube_learning_deep_tube_learning/runs/u5omtocu' target=\"_blank\">astral-morning-8</a></strong> to <a href='https://wandb.ai/coleonguard-Georgia%20Institute%20of%20Technology/legged_gym_dev-deep_tube_learning_deep_tube_learning' target=\"_blank\">Weights & Biases</a> (<a href='https://wandb.me/run' target=\"_blank\">docs</a>)<br/>"
      ]
     },
     "metadata": {},
     "output_type": "display_data"
    },
    {
     "data": {
      "text/plain": [
       "<IPython.core.display.HTML object>"
      ],
      "text/html": [
       " View project at <a href='https://wandb.ai/coleonguard-Georgia%20Institute%20of%20Technology/legged_gym_dev-deep_tube_learning_deep_tube_learning' target=\"_blank\">https://wandb.ai/coleonguard-Georgia%20Institute%20of%20Technology/legged_gym_dev-deep_tube_learning_deep_tube_learning</a>"
      ]
     },
     "metadata": {},
     "output_type": "display_data"
    },
    {
     "data": {
      "text/plain": [
       "<IPython.core.display.HTML object>"
      ],
      "text/html": [
       " View run at <a href='https://wandb.ai/coleonguard-Georgia%20Institute%20of%20Technology/legged_gym_dev-deep_tube_learning_deep_tube_learning/runs/u5omtocu' target=\"_blank\">https://wandb.ai/coleonguard-Georgia%20Institute%20of%20Technology/legged_gym_dev-deep_tube_learning_deep_tube_learning/runs/u5omtocu</a>"
      ]
     },
     "metadata": {},
     "output_type": "display_data"
    },
    {
     "name": "stdout",
     "output_type": "stream",
     "text": [
      "Keys in dataset: dict_keys(['z', 'pz_x', 'v', 'z_p1', 'pz_x_p1'])\n",
      "0\n",
      "1\n",
      "2\n",
      "3\n",
      "4\n"
     ]
    },
    {
     "ename": "KeyboardInterrupt",
     "evalue": "",
     "output_type": "error",
     "traceback": [
      "\u001B[0;31m---------------------------------------------------------------------------\u001B[0m",
      "\u001B[0;31mKeyboardInterrupt\u001B[0m                         Traceback (most recent call last)",
      "Cell \u001B[0;32mIn[13], line 2\u001B[0m\n\u001B[1;32m      1\u001B[0m wandb\u001B[38;5;241m.\u001B[39mlogin(key\u001B[38;5;241m=\u001B[39m\u001B[38;5;124m\"\u001B[39m\u001B[38;5;124m70954bb73c536b7f5b23ef315c7c19b511e8a406\u001B[39m\u001B[38;5;124m\"\u001B[39m)\n\u001B[0;32m----> 2\u001B[0m \u001B[43mmain\u001B[49m\u001B[43m(\u001B[49m\u001B[38;5;124;43m'\u001B[39;49m\u001B[38;5;124;43msingle_integrator_o9zc48x6\u001B[39;49m\u001B[38;5;124;43m'\u001B[39;49m\u001B[43m)\u001B[49m\n",
      "Cell \u001B[0;32mIn[12], line 67\u001B[0m, in \u001B[0;36mmain\u001B[0;34m(run_id, num_units, num_layers, num_epochs)\u001B[0m\n\u001B[1;32m     64\u001B[0m criterion \u001B[38;5;241m=\u001B[39m CustomErrorDynamicsLoss()\n\u001B[1;32m     65\u001B[0m optimizer \u001B[38;5;241m=\u001B[39m optim\u001B[38;5;241m.\u001B[39mAdam(model\u001B[38;5;241m.\u001B[39mparameters(), lr\u001B[38;5;241m=\u001B[39m\u001B[38;5;241m0.001\u001B[39m)\n\u001B[0;32m---> 67\u001B[0m \u001B[43mtrain_and_test\u001B[49m\u001B[43m(\u001B[49m\u001B[43mmodel\u001B[49m\u001B[43m,\u001B[49m\u001B[43m \u001B[49m\u001B[43mcriterion\u001B[49m\u001B[43m,\u001B[49m\u001B[43m \u001B[49m\u001B[43moptimizer\u001B[49m\u001B[43m,\u001B[49m\u001B[43m \u001B[49m\u001B[43mtrain_loader\u001B[49m\u001B[43m,\u001B[49m\u001B[43m \u001B[49m\u001B[43mtest_loader\u001B[49m\u001B[43m,\u001B[49m\u001B[43m \u001B[49m\u001B[43mnum_epochs\u001B[49m\u001B[43m)\u001B[49m\n\u001B[1;32m     69\u001B[0m wandb\u001B[38;5;241m.\u001B[39mfinish()\n",
      "Cell \u001B[0;32mIn[12], line 32\u001B[0m, in \u001B[0;36mtrain_and_test\u001B[0;34m(model, criterion, optimizer, train_loader, test_loader, num_epochs)\u001B[0m\n\u001B[1;32m     30\u001B[0m outputs \u001B[38;5;241m=\u001B[39m model(data)\n\u001B[1;32m     31\u001B[0m loss \u001B[38;5;241m=\u001B[39m criterion(outputs, targets)\n\u001B[0;32m---> 32\u001B[0m \u001B[43mloss\u001B[49m\u001B[38;5;241;43m.\u001B[39;49m\u001B[43mbackward\u001B[49m\u001B[43m(\u001B[49m\u001B[43m)\u001B[49m\n\u001B[1;32m     33\u001B[0m optimizer\u001B[38;5;241m.\u001B[39mstep()\n\u001B[1;32m     34\u001B[0m total_train_loss \u001B[38;5;241m+\u001B[39m\u001B[38;5;241m=\u001B[39m loss\u001B[38;5;241m.\u001B[39mitem()\n",
      "File \u001B[0;32m~/miniforge3/envs/legged_gym_dev/lib/python3.8/site-packages/torch/_tensor.py:525\u001B[0m, in \u001B[0;36mTensor.backward\u001B[0;34m(self, gradient, retain_graph, create_graph, inputs)\u001B[0m\n\u001B[1;32m    515\u001B[0m \u001B[38;5;28;01mif\u001B[39;00m has_torch_function_unary(\u001B[38;5;28mself\u001B[39m):\n\u001B[1;32m    516\u001B[0m     \u001B[38;5;28;01mreturn\u001B[39;00m handle_torch_function(\n\u001B[1;32m    517\u001B[0m         Tensor\u001B[38;5;241m.\u001B[39mbackward,\n\u001B[1;32m    518\u001B[0m         (\u001B[38;5;28mself\u001B[39m,),\n\u001B[0;32m   (...)\u001B[0m\n\u001B[1;32m    523\u001B[0m         inputs\u001B[38;5;241m=\u001B[39minputs,\n\u001B[1;32m    524\u001B[0m     )\n\u001B[0;32m--> 525\u001B[0m \u001B[43mtorch\u001B[49m\u001B[38;5;241;43m.\u001B[39;49m\u001B[43mautograd\u001B[49m\u001B[38;5;241;43m.\u001B[39;49m\u001B[43mbackward\u001B[49m\u001B[43m(\u001B[49m\n\u001B[1;32m    526\u001B[0m \u001B[43m    \u001B[49m\u001B[38;5;28;43mself\u001B[39;49m\u001B[43m,\u001B[49m\u001B[43m \u001B[49m\u001B[43mgradient\u001B[49m\u001B[43m,\u001B[49m\u001B[43m \u001B[49m\u001B[43mretain_graph\u001B[49m\u001B[43m,\u001B[49m\u001B[43m \u001B[49m\u001B[43mcreate_graph\u001B[49m\u001B[43m,\u001B[49m\u001B[43m \u001B[49m\u001B[43minputs\u001B[49m\u001B[38;5;241;43m=\u001B[39;49m\u001B[43minputs\u001B[49m\n\u001B[1;32m    527\u001B[0m \u001B[43m\u001B[49m\u001B[43m)\u001B[49m\n",
      "File \u001B[0;32m~/miniforge3/envs/legged_gym_dev/lib/python3.8/site-packages/torch/autograd/__init__.py:267\u001B[0m, in \u001B[0;36mbackward\u001B[0;34m(tensors, grad_tensors, retain_graph, create_graph, grad_variables, inputs)\u001B[0m\n\u001B[1;32m    262\u001B[0m     retain_graph \u001B[38;5;241m=\u001B[39m create_graph\n\u001B[1;32m    264\u001B[0m \u001B[38;5;66;03m# The reason we repeat the same comment below is that\u001B[39;00m\n\u001B[1;32m    265\u001B[0m \u001B[38;5;66;03m# some Python versions print out the first line of a multi-line function\u001B[39;00m\n\u001B[1;32m    266\u001B[0m \u001B[38;5;66;03m# calls in the traceback and some print out the last line\u001B[39;00m\n\u001B[0;32m--> 267\u001B[0m \u001B[43m_engine_run_backward\u001B[49m\u001B[43m(\u001B[49m\n\u001B[1;32m    268\u001B[0m \u001B[43m    \u001B[49m\u001B[43mtensors\u001B[49m\u001B[43m,\u001B[49m\n\u001B[1;32m    269\u001B[0m \u001B[43m    \u001B[49m\u001B[43mgrad_tensors_\u001B[49m\u001B[43m,\u001B[49m\n\u001B[1;32m    270\u001B[0m \u001B[43m    \u001B[49m\u001B[43mretain_graph\u001B[49m\u001B[43m,\u001B[49m\n\u001B[1;32m    271\u001B[0m \u001B[43m    \u001B[49m\u001B[43mcreate_graph\u001B[49m\u001B[43m,\u001B[49m\n\u001B[1;32m    272\u001B[0m \u001B[43m    \u001B[49m\u001B[43minputs\u001B[49m\u001B[43m,\u001B[49m\n\u001B[1;32m    273\u001B[0m \u001B[43m    \u001B[49m\u001B[43mallow_unreachable\u001B[49m\u001B[38;5;241;43m=\u001B[39;49m\u001B[38;5;28;43;01mTrue\u001B[39;49;00m\u001B[43m,\u001B[49m\n\u001B[1;32m    274\u001B[0m \u001B[43m    \u001B[49m\u001B[43maccumulate_grad\u001B[49m\u001B[38;5;241;43m=\u001B[39;49m\u001B[38;5;28;43;01mTrue\u001B[39;49;00m\u001B[43m,\u001B[49m\n\u001B[1;32m    275\u001B[0m \u001B[43m\u001B[49m\u001B[43m)\u001B[49m\n",
      "File \u001B[0;32m~/miniforge3/envs/legged_gym_dev/lib/python3.8/site-packages/torch/autograd/graph.py:744\u001B[0m, in \u001B[0;36m_engine_run_backward\u001B[0;34m(t_outputs, *args, **kwargs)\u001B[0m\n\u001B[1;32m    742\u001B[0m     unregister_hooks \u001B[38;5;241m=\u001B[39m _register_logging_hooks_on_whole_graph(t_outputs)\n\u001B[1;32m    743\u001B[0m \u001B[38;5;28;01mtry\u001B[39;00m:\n\u001B[0;32m--> 744\u001B[0m     \u001B[38;5;28;01mreturn\u001B[39;00m \u001B[43mVariable\u001B[49m\u001B[38;5;241;43m.\u001B[39;49m\u001B[43m_execution_engine\u001B[49m\u001B[38;5;241;43m.\u001B[39;49m\u001B[43mrun_backward\u001B[49m\u001B[43m(\u001B[49m\u001B[43m  \u001B[49m\u001B[38;5;66;43;03m# Calls into the C++ engine to run the backward pass\u001B[39;49;00m\n\u001B[1;32m    745\u001B[0m \u001B[43m        \u001B[49m\u001B[43mt_outputs\u001B[49m\u001B[43m,\u001B[49m\u001B[43m \u001B[49m\u001B[38;5;241;43m*\u001B[39;49m\u001B[43margs\u001B[49m\u001B[43m,\u001B[49m\u001B[43m \u001B[49m\u001B[38;5;241;43m*\u001B[39;49m\u001B[38;5;241;43m*\u001B[39;49m\u001B[43mkwargs\u001B[49m\n\u001B[1;32m    746\u001B[0m \u001B[43m    \u001B[49m\u001B[43m)\u001B[49m  \u001B[38;5;66;03m# Calls into the C++ engine to run the backward pass\u001B[39;00m\n\u001B[1;32m    747\u001B[0m \u001B[38;5;28;01mfinally\u001B[39;00m:\n\u001B[1;32m    748\u001B[0m     \u001B[38;5;28;01mif\u001B[39;00m attach_logging_hooks:\n",
      "\u001B[0;31mKeyboardInterrupt\u001B[0m: "
     ]
    }
   ],
   "execution_count": 13
  },
  {
   "cell_type": "code",
   "execution_count": null,
   "metadata": {},
   "outputs": [],
   "source": [
    "if __name__ == \"__main__\":\n",
    "    parser = argparse.ArgumentParser()\n",
    "    parser.add_argument(\"--run_id\", type=str, required=True, help=\"Run ID for the data.\")\n",
    "    parser.add_argument(\"--num_units\", type=int, default=100, help=\"Number of units in each hidden layer.\")\n",
    "    parser.add_argument(\"--num_layers\", type=int, default=2, help=\"Number of hidden layers.\")\n",
    "    parser.add_argument(\"--num_epochs\", type=int, default=50, help=\"Number of epochs to train.\")\n",
    "    args = parser.parse_args()\n",
    "    wandb.login(key=\"70954bb73c536b7f5b23ef315c7c19b511e8a406\")\n",
    "\n",
    "    main(args.run_id, args.num_units, args.num_layers, args.num_epochs)"
   ]
  },
  {
   "cell_type": "code",
   "execution_count": null,
   "metadata": {},
   "outputs": [],
   "source": []
  }
 ],
 "metadata": {
  "kernelspec": {
   "display_name": "Python 3 (ipykernel)",
   "language": "python",
   "name": "python3"
  },
  "language_info": {
   "codemirror_mode": {
    "name": "ipython",
    "version": 3
   },
   "file_extension": ".py",
   "mimetype": "text/x-python",
   "name": "python",
   "nbconvert_exporter": "python",
   "pygments_lexer": "ipython3",
   "version": "3.9.12"
  }
 },
 "nbformat": 4,
 "nbformat_minor": 2
}
